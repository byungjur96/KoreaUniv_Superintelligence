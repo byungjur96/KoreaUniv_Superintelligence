{
 "cells": [
  {
   "cell_type": "code",
   "execution_count": 19,
   "id": "a9acee6b-3d2c-4821-9aec-698a31b2087e",
   "metadata": {},
   "outputs": [],
   "source": [
    "from transformers import CLIPTextModel, CLIPTokenizer, AutoTokenizer\n",
    "from diffusers import AutoencoderKL, StableDiffusionPipeline\n",
    "import torch"
   ]
  },
  {
   "cell_type": "code",
   "execution_count": 2,
   "id": "80d23bf3-cf5b-45cc-a8d4-024ca7e27b20",
   "metadata": {},
   "outputs": [],
   "source": [
    "clip_tokenizer = CLIPTokenizer.from_pretrained('CompVis/stable-diffusion-v1-4', subfolder=\"tokenizer\")\n",
    "clip_text_encoder = CLIPTextModel.from_pretrained('CompVis/stable-diffusion-v1-4', subfolder=\"text_encoder\")"
   ]
  },
  {
   "cell_type": "code",
   "execution_count": 3,
   "id": "a50ea529-5fb7-41ef-bb64-38e82fbe719f",
   "metadata": {},
   "outputs": [],
   "source": [
    "clip_tok = clip_tokenizer(\"Sample\", max_length=clip_tokenizer.model_max_length, padding=\"max_length\", truncation=True, return_tensors=\"pt\")"
   ]
  },
  {
   "cell_type": "code",
   "execution_count": 4,
   "id": "89f7d1a7-68fc-4c3a-a17b-9ffa70f9cfa2",
   "metadata": {},
   "outputs": [
    {
     "name": "stdout",
     "output_type": "stream",
     "text": [
      "dict_keys(['input_ids', 'attention_mask'])\n",
      "torch.Size([1, 77])\n"
     ]
    }
   ],
   "source": [
    "print(clip_tok.keys())\n",
    "print(clip_tok['input_ids'].shape)"
   ]
  },
  {
   "cell_type": "code",
   "execution_count": 5,
   "id": "a83b9557-0c1c-471d-a096-d50c57e39d1d",
   "metadata": {},
   "outputs": [
    {
     "name": "stdout",
     "output_type": "stream",
     "text": [
      "odict_keys(['last_hidden_state', 'pooler_output'])\n",
      "torch.Size([1, 77, 768])\n",
      "torch.Size([1, 768])\n"
     ]
    }
   ],
   "source": [
    "clip_result = clip_text_encoder(clip_tok['input_ids'])\n",
    "print(clip_result.keys())\n",
    "print(clip_result[0].shape)\n",
    "print(clip_result[1].shape)"
   ]
  },
  {
   "cell_type": "code",
   "execution_count": 6,
   "id": "3c060ae0-e3cf-4803-b4fa-1bb256491042",
   "metadata": {},
   "outputs": [],
   "source": [
    "# Load model directly\n",
    "from transformers import AutoTokenizer, AutoModel\n",
    "\n",
    "tokenizer = AutoTokenizer.from_pretrained(\"cambridgeltl/SapBERT-from-PubMedBERT-fulltext\")\n",
    "model = AutoModel.from_pretrained(\"cambridgeltl/SapBERT-from-PubMedBERT-fulltext\")"
   ]
  },
  {
   "cell_type": "code",
   "execution_count": 7,
   "id": "8262a648-c888-4e5f-8c08-fc20e08d861c",
   "metadata": {},
   "outputs": [
    {
     "data": {
      "text/plain": [
       "1000000000000000019884624838656"
      ]
     },
     "execution_count": 7,
     "metadata": {},
     "output_type": "execute_result"
    }
   ],
   "source": [
    "tokenizer.model_max_length"
   ]
  },
  {
   "cell_type": "code",
   "execution_count": 8,
   "id": "0f853a53-f9b8-4d85-a472-fdf0637c2ba8",
   "metadata": {},
   "outputs": [],
   "source": [
    "tok = tokenizer(\"Sample\", max_length=77, padding=\"max_length\", truncation=True, return_tensors=\"pt\")"
   ]
  },
  {
   "cell_type": "code",
   "execution_count": 9,
   "id": "22f7613c-1c2b-4874-bb3b-ab5f790bb2e9",
   "metadata": {},
   "outputs": [
    {
     "data": {
      "text/plain": [
       "dict_keys(['input_ids', 'token_type_ids', 'attention_mask'])"
      ]
     },
     "execution_count": 9,
     "metadata": {},
     "output_type": "execute_result"
    }
   ],
   "source": [
    "tok.keys()"
   ]
  },
  {
   "cell_type": "code",
   "execution_count": 11,
   "id": "8451a0fa-b805-4888-8a8b-93fb9942e516",
   "metadata": {},
   "outputs": [
    {
     "name": "stderr",
     "output_type": "stream",
     "text": [
      "We strongly recommend passing in an `attention_mask` since your input_ids may be padded. See https://huggingface.co/docs/transformers/troubleshooting#incorrect-output-when-padding-tokens-arent-masked.\n"
     ]
    },
    {
     "name": "stdout",
     "output_type": "stream",
     "text": [
      "odict_keys(['last_hidden_state', 'pooler_output'])\n",
      "torch.Size([1, 77, 768])\n",
      "torch.Size([1, 768])\n"
     ]
    }
   ],
   "source": [
    "# bert_result = model(**tok)\n",
    "bert_result = model(tok['input_ids'])\n",
    "print(bert_result.keys())\n",
    "print(bert_result[0].shape)\n",
    "print(bert_result[1].shape)"
   ]
  },
  {
   "cell_type": "code",
   "execution_count": null,
   "id": "db251d8a-ddbf-4a37-89b6-cb1448a85c5b",
   "metadata": {},
   "outputs": [],
   "source": []
  }
 ],
 "metadata": {
  "kernelspec": {
   "display_name": "Python 3 (ipykernel)",
   "language": "python",
   "name": "python3"
  },
  "language_info": {
   "codemirror_mode": {
    "name": "ipython",
    "version": 3
   },
   "file_extension": ".py",
   "mimetype": "text/x-python",
   "name": "python",
   "nbconvert_exporter": "python",
   "pygments_lexer": "ipython3",
   "version": "3.8.12"
  }
 },
 "nbformat": 4,
 "nbformat_minor": 5
}
